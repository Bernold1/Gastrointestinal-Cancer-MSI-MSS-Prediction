{
 "cells": [
  {
   "cell_type": "code",
   "execution_count": 27,
   "metadata": {},
   "outputs": [],
   "source": [
    "#Parts of notebook inspired by: https://www.kaggle.com/linjustin/cnn-keras\n",
    "\n",
    "#Imports\n",
    "#%%\n",
    "import os\n",
    "import numpy as np\n",
    "import pathlib\n",
    "import matplotlib.pyplot as plt\n",
    "import tensorflow  as tf\n",
    "from tensorflow import keras\n",
    "from keras.models import Sequential\n",
    "from keras.layers import (Dense,Conv2D, Dropout, Activation, Flatten, MaxPooling2D, BatchNormalization)\n",
    "np.random.seed(987123)\n",
    "#%%"
   ]
  },
  {
   "cell_type": "code",
   "execution_count": 28,
   "metadata": {},
   "outputs": [],
   "source": [
    "#Dataset already split into training test and validation sets\n",
    "DATA_PATH = './tcga_coad_msi_mss'\n",
    "training_set_dir = os.path.join(DATA_PATH, 'train')\n",
    "training_root = pathlib.Path(training_set_dir)\n",
    "\n",
    "test_set_dir = os.path.join(DATA_PATH, 'test')\n",
    "test_root = pathlib.Path(test_set_dir)\n",
    "\n",
    "validation_set_dir = os.path.join(DATA_PATH,'val')\n",
    "validation_root = pathlib.Path(validation_set_dir)\n",
    "\n",
    "train_MSIMUT_dir = os.path.join(training_set_dir, 'MSIMUT')\n",
    "train_MSS_dir = os.path.join(training_set_dir, 'MSS')\n",
    "\n",
    "test_MSIMUT_dir = os.path.join(test_set_dir, 'MSIMUT')\n",
    "test_MSS_dir = os.path.join(test_set_dir, 'MSS')\n",
    "\n",
    "validation_MSIMUT_dir = os.path.join(validation_set_dir, 'MSIMUT')\n",
    "validation_MSS_dir = os.path.join(validation_set_dir, 'MSS')"
   ]
  },
  {
   "cell_type": "code",
   "execution_count": 29,
   "metadata": {},
   "outputs": [
    {
     "name": "stdout",
     "output_type": "stream",
     "text": [
      "MSIMUT\n",
      "MSS\n"
     ]
    }
   ],
   "source": [
    "#Files in root training folder - same folder structure in every set is the same.\n",
    "for image in training_root.glob(\"*\"):\n",
    " print(image.name)"
   ]
  },
  {
   "cell_type": "code",
   "execution_count": 30,
   "metadata": {},
   "outputs": [
    {
     "name": "stdout",
     "output_type": "stream",
     "text": [
      "Amount of MSIMUT images in training set:  60031\n",
      "Amount of MSS images in training set:  93818\n",
      "Amount of MSIMUT images in training set:  7505\n",
      "Amount of MSS images in training set:  11728\n",
      "Amount of MSIMUT images in validation set:  7503\n",
      "Amount of MSS images in validation set:  11727\n"
     ]
    }
   ],
   "source": [
    "# Amount of images in each set\n",
    "\n",
    "#os.listdir() used to get the list of all files and directories in the specified directory\n",
    "#https://www.geeksforgeeks.org/python-os-listdir-method/\n",
    "\n",
    "training_set_size_MSIMUT, training_set_size_MSS = len(os.listdir(train_MSIMUT_dir)), len(os.listdir(train_MSS_dir))\n",
    "test_set_size_MSIMUT, test_set_size_MSS = len(os.listdir(test_MSIMUT_dir)), len(os.listdir(test_MSS_dir))\n",
    "validation_set_size_MSIMUT, validation_set_size_MSS = len(os.listdir(validation_MSIMUT_dir)), len(os.listdir(validation_MSS_dir))\n",
    "\n",
    "print(\"Amount of MSIMUT images in training set: \", training_set_size_MSIMUT)\n",
    "print(\"Amount of MSS images in training set: \", training_set_size_MSS)\n",
    "\n",
    "print(\"Amount of MSIMUT images in training set: \", test_set_size_MSIMUT)\n",
    "print(\"Amount of MSS images in training set: \", test_set_size_MSS)\n",
    "\n",
    "print(\"Amount of MSIMUT images in validation set: \", validation_set_size_MSIMUT)\n",
    "print(\"Amount of MSS images in validation set: \", validation_set_size_MSS)"
   ]
  },
  {
   "cell_type": "code",
   "execution_count": 31,
   "metadata": {},
   "outputs": [
    {
     "name": "stdout",
     "output_type": "stream",
     "text": [
      "b'tcga_coad_msi_mss\\\\train\\\\MSIMUT\\\\blk-QDTECMYTEINN-TCGA-NH-A5IV-01Z-00-DX1.jpg'\n",
      "b'tcga_coad_msi_mss\\\\train\\\\MSS\\\\blk-WCSKTTQGYTHG-TCGA-F5-6813-01Z-00-DX1.jpg'\n",
      "b'tcga_coad_msi_mss\\\\train\\\\MSIMUT\\\\blk-FCAPEQLDQHQY-TCGA-A6-5661-01Z-00-DX1.jpg'\n",
      "b'tcga_coad_msi_mss\\\\train\\\\MSS\\\\blk-NHEHPHDTRNKT-TCGA-AA-A02O-01Z-00-DX1.jpg'\n",
      "b'tcga_coad_msi_mss\\\\train\\\\MSIMUT\\\\blk-GEFRCPNKTQYF-TCGA-D5-6530-01Z-00-DX1.jpg'\n",
      "b'tcga_coad_msi_mss\\\\train\\\\MSIMUT\\\\blk-SWACLQWHEADM-TCGA-CM-4746-01Z-00-DX1.jpg'\n",
      "b'tcga_coad_msi_mss\\\\train\\\\MSS\\\\blk-YLWNRDITRKHE-TCGA-DC-5869-01Z-00-DX1.jpg'\n",
      "b'tcga_coad_msi_mss\\\\train\\\\MSS\\\\blk-YFFYRFSMFSSG-TCGA-NH-A50U-01Z-00-DX1.jpg'\n",
      "b'tcga_coad_msi_mss\\\\train\\\\MSS\\\\blk-WCEGHYRMDGMP-TCGA-DM-A1D6-01Z-00-DX1.jpg'\n",
      "b'tcga_coad_msi_mss\\\\train\\\\MSIMUT\\\\blk-CEWINHLGNCKQ-TCGA-EI-6882-01Z-00-DX1.jpg'\n"
     ]
    }
   ],
   "source": [
    "#A list of files returned as strings inside of both the MSIMUT and MSS folders.\n",
    "training_ds_list = tf.data.Dataset.list_files(str(training_root/'*/*'))\n",
    "\n",
    "for image in training_ds_list.take(10):\n",
    "    print(image.numpy())"
   ]
  },
  {
   "cell_type": "code",
   "execution_count": 32,
   "metadata": {},
   "outputs": [],
   "source": [
    "#Pipeline: extracting the label and image pairs. https://www.tensorflow.org/guide/data#consuming_sets_of_files\n",
    "#labels are based on the folder names, so all images in the MSS folder will have the label MSS and the same for MSIMUT\n",
    "def process_file_path(file_path):\n",
    "    label = tf.strings.split(file_path, os.sep)[-2]\n",
    "    return tf.io.read_file(file_path), label\n",
    "\n",
    "training_ds_labeled = training_ds_list.map(process_file_path)"
   ]
  },
  {
   "cell_type": "code",
   "execution_count": 33,
   "metadata": {},
   "outputs": [
    {
     "name": "stdout",
     "output_type": "stream",
     "text": [
      "b'\\xff\\xd8\\xff\\xe0\\x00\\x10JFIF\\x00\\x01\\x01\\x01\\x00H\\x00H\\x00\\x00\\xff\\xdb\\x00C\\x00\\x03\\x02\\x02\\x03\\x02\\x02\\x03\\x03\\x03\\x03\\x04\\x03\\x03\\x04\\x05\\x08\\x05\\x05\\x04\\x04\\x05\\n\\x07\\x07\\x06\\x08\\x0c\\n\\x0c\\x0c\\x0b\\n\\x0b\\x0b\\r\\x0e\\x12\\x10\\r\\x0e\\x11\\x0e\\x0b\\x0b\\x10\\x16\\x10\\x11\\x13\\x14\\x15\\x15\\x15\\x0c\\x0f\\x17\\x18\\x16\\x14\\x18\\x12\\x14\\x15\\x14\\xff\\xdb\\x00C\\x01\\x03\\x04\\x04\\x05\\x04\\x05'\n",
      "\n",
      "b'MSIMUT'\n"
     ]
    }
   ],
   "source": [
    "#displaying an image displaying raw binary data and the label. \n",
    "for image_raw, label_text in training_ds_labeled.take(1):\n",
    "    print(repr(image_raw.numpy()[:100]))\n",
    "    print()\n",
    "    print(label_text.numpy())\n"
   ]
  },
  {
   "cell_type": "code",
   "execution_count": 37,
   "metadata": {},
   "outputs": [
    {
     "ename": "TypeError",
     "evalue": "can only concatenate tuple (not \"int\") to tuple",
     "output_type": "error",
     "traceback": [
      "\u001b[1;31m---------------------------------------------------------------------------\u001b[0m",
      "\u001b[1;31mTypeError\u001b[0m                                 Traceback (most recent call last)",
      "\u001b[1;32m<ipython-input-37-c4ef54aa86f6>\u001b[0m in \u001b[0;36m<module>\u001b[1;34m\u001b[0m\n\u001b[0;32m      1\u001b[0m \u001b[0mplt\u001b[0m\u001b[1;33m.\u001b[0m\u001b[0mfigure\u001b[0m\u001b[1;33m(\u001b[0m\u001b[0mfigsize\u001b[0m\u001b[1;33m=\u001b[0m\u001b[1;33m(\u001b[0m\u001b[1;36m10\u001b[0m\u001b[1;33m,\u001b[0m\u001b[1;36m10\u001b[0m\u001b[1;33m)\u001b[0m\u001b[1;33m)\u001b[0m\u001b[1;33m\u001b[0m\u001b[1;33m\u001b[0m\u001b[0m\n\u001b[0;32m      2\u001b[0m \u001b[1;32mfor\u001b[0m \u001b[0mi\u001b[0m \u001b[1;32min\u001b[0m \u001b[0mtraining_ds_labeled\u001b[0m\u001b[1;33m.\u001b[0m\u001b[0mtake\u001b[0m\u001b[1;33m(\u001b[0m\u001b[1;36m1\u001b[0m\u001b[1;33m)\u001b[0m\u001b[1;33m:\u001b[0m\u001b[1;33m\u001b[0m\u001b[1;33m\u001b[0m\u001b[0m\n\u001b[1;32m----> 3\u001b[1;33m     \u001b[0mplt\u001b[0m\u001b[1;33m.\u001b[0m\u001b[0msubplot\u001b[0m\u001b[1;33m(\u001b[0m\u001b[1;36m3\u001b[0m\u001b[1;33m,\u001b[0m\u001b[1;36m3\u001b[0m\u001b[1;33m,\u001b[0m\u001b[0mi\u001b[0m\u001b[1;33m+\u001b[0m\u001b[1;36m1\u001b[0m\u001b[1;33m)\u001b[0m\u001b[1;33m\u001b[0m\u001b[1;33m\u001b[0m\u001b[0m\n\u001b[0m\u001b[0;32m      4\u001b[0m     \u001b[0mplt\u001b[0m\u001b[1;33m.\u001b[0m\u001b[0mimshow\u001b[0m\u001b[1;33m(\u001b[0m\u001b[0mi\u001b[0m\u001b[1;33m)\u001b[0m\u001b[1;33m\u001b[0m\u001b[1;33m\u001b[0m\u001b[0m\n\u001b[0;32m      5\u001b[0m     \u001b[0mplt\u001b[0m\u001b[1;33m.\u001b[0m\u001b[0mcolorbar\u001b[0m\u001b[1;33m(\u001b[0m\u001b[1;33m)\u001b[0m\u001b[1;33m\u001b[0m\u001b[1;33m\u001b[0m\u001b[0m\n",
      "\u001b[1;31mTypeError\u001b[0m: can only concatenate tuple (not \"int\") to tuple"
     ]
    },
    {
     "data": {
      "text/plain": [
       "<Figure size 720x720 with 0 Axes>"
      ]
     },
     "metadata": {},
     "output_type": "display_data"
    }
   ],
   "source": [
    "plt.figure(figsize=(10,10))\n",
    "for i in training_ds_labeled.take(1):\n",
    "    plt.subplot(3,3,i+1)\n",
    "    plt.imshow(i)\n",
    "    plt.colorbar()\n",
    "    plt.grid(False)\n",
    "plt.show()"
   ]
  },
  {
   "cell_type": "code",
   "execution_count": null,
   "metadata": {},
   "outputs": [],
   "source": []
  },
  {
   "cell_type": "code",
   "execution_count": null,
   "metadata": {},
   "outputs": [],
   "source": []
  },
  {
   "cell_type": "code",
   "execution_count": null,
   "metadata": {},
   "outputs": [],
   "source": []
  }
 ],
 "metadata": {
  "kernelspec": {
   "display_name": "Python 3",
   "language": "python",
   "name": "python3"
  },
  "language_info": {
   "codemirror_mode": {
    "name": "ipython",
    "version": 3
   },
   "file_extension": ".py",
   "mimetype": "text/x-python",
   "name": "python",
   "nbconvert_exporter": "python",
   "pygments_lexer": "ipython3",
   "version": "3.8.3"
  }
 },
 "nbformat": 4,
 "nbformat_minor": 4
}
